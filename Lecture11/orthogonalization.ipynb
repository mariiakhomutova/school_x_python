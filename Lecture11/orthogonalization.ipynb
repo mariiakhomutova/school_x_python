{
 "cells": [
  {
   "cell_type": "code",
   "execution_count": 108,
   "metadata": {},
   "outputs": [],
   "source": [
    "class Matrix: \n",
    "    def __init__(self, matrix): \n",
    "        self.matrix = matrix \n",
    " \n",
    "    def vector_dot_product(self, v1, v2): \n",
    "        result = 0 \n",
    "        for k in range(len(v1)): \n",
    "            result += v1[k] * v2[k] \n",
    "        return result \n",
    " \n",
    "    def normalise(self, vector): \n",
    "        result = 0 \n",
    "        for t in vector: \n",
    "            result += t**2 \n",
    "        return result**0.5 \n",
    " \n",
    "    def gram_schmidt(self): \n",
    "        original_basis = [] \n",
    "        orthonormal_basis = [] \n",
    "        for l in range(len(self.matrix)): \n",
    "            vector = self.matrix[l] \n",
    "            for m in range(l): \n",
    "                projection = self.vector_dot_product(vector, orthonormal_basis[m]) / self.vector_dot_product(orthonormal_basis[m], orthonormal_basis[m]) \n",
    "                for k in range(len(vector)): \n",
    "                    vector[k] -= projection * orthonormal_basis[m][k] \n",
    "            if self.normalise(vector) != 0: \n",
    "                original_basis.append(vector) \n",
    "                orthonormal_vector = [] \n",
    "                for x in vector: \n",
    "                    orthonormal_vector.append(x / self.normalise(vector)) \n",
    "                orthonormal_basis.append(orthonormal_vector) \n",
    "        return orthonormal_basis"
   ]
  },
  {
   "cell_type": "code",
   "execution_count": 140,
   "metadata": {},
   "outputs": [
    {
     "data": {
      "text/plain": [
       "[[0.5, -0.5, 0.5, 0.5],\n",
       " [0.11470786693528087,\n",
       "  0.8029550685469661,\n",
       "  0.5735393346764044,\n",
       "  0.11470786693528087],\n",
       " [0.4866642633922876,\n",
       "  0.3244428422615247,\n",
       "  -0.6488856845230504,\n",
       "  0.4866642633922876],\n",
       " [-0.7071067811865476, 0.0, 0.0, 0.7071067811865476]]"
      ]
     },
     "execution_count": 140,
     "metadata": {},
     "output_type": "execute_result"
    }
   ],
   "source": [
    "matrix1 = Matrix([[1, -1, 1, 1], [1, 1, 2, 1], [1, -2, 0, 1], [-1, 0, 1, 2]])\n",
    "matrix1.gram_schmidt()"
   ]
  }
 ],
 "metadata": {
  "kernelspec": {
   "display_name": "Python 3",
   "language": "python",
   "name": "python3"
  },
  "language_info": {
   "codemirror_mode": {
    "name": "ipython",
    "version": 3
   },
   "file_extension": ".py",
   "mimetype": "text/x-python",
   "name": "python",
   "nbconvert_exporter": "python",
   "pygments_lexer": "ipython3",
   "version": "3.11.4"
  },
  "orig_nbformat": 4
 },
 "nbformat": 4,
 "nbformat_minor": 2
}
