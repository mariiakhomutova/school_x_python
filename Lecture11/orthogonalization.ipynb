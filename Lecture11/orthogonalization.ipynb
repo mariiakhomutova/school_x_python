{
 "cells": [
  {
   "cell_type": "code",
   "execution_count": 43,
   "metadata": {},
   "outputs": [],
   "source": [
    "class Matrix: \n",
    "    def __init__(self, matrix): \n",
    "        self.matrix = matrix \n",
    " \n",
    "    def vector_dot_product(self, v1, v2): \n",
    "        result = 0 \n",
    "        for k in range(len(v1)): \n",
    "            result += v1[k] * v2[k] \n",
    "        return result \n",
    " \n",
    "    def normalise(self, vector): \n",
    "        result = 0 \n",
    "        for t in vector: \n",
    "            result += t**2 \n",
    "        return result**0.5 \n",
    " \n",
    "    def gram_schmidt(self): \n",
    "        original_basis = [] \n",
    "        orthonormal_basis = [] \n",
    "        for l in range(len(self.matrix)): \n",
    "            vector = self.matrix[l] \n",
    "            for m in range(l): \n",
    "                projection = self.vector_dot_product(vector, orthonormal_basis[m]) / self.vector_dot_product(orthonormal_basis[m], orthonormal_basis[m]) \n",
    "                for k in range(len(vector)): \n",
    "                    vector[k] -= projection * orthonormal_basis[m][k] \n",
    "            if self.normalise(vector) != 0: \n",
    "                original_basis.append(vector) \n",
    "                orthonormal_vector = [] \n",
    "                for x in vector: \n",
    "                    orthonormal_vector.append(x / self.normalise(vector)) \n",
    "                orthonormal_basis.append(orthonormal_vector) \n",
    "        return orthonormal_basis"
   ]
  },
  {
   "cell_type": "code",
   "execution_count": 44,
   "metadata": {},
   "outputs": [
    {
     "name": "stdout",
     "output_type": "stream",
     "text": [
      "[[0.5, -0.5, 0.5, 0.5], [0.2886751345948129, 0.8660254037844387, 0.2886751345948129, 0.2886751345948129], [-0.4082482904638629, 2.7194799110210365e-16, 0.8164965809277261, -0.4082482904638629], [-0.7071067811865478, -3.663549070262142e-16, -2.093456611578367e-16, 0.7071067811865474]]\n"
     ]
    }
   ],
   "source": [
    "matrix = [[1, -1, 1, 1], [1, 0, 1, 1], [1, 1, 2, 1], [-1, 1, 3, 2]]\n",
    "matrix1 = Matrix(matrix)\n",
    "orthonormal_basis = matrix1.gram_schmidt()\n",
    "print(orthonormal_basis)"
   ]
  }
 ],
 "metadata": {
  "kernelspec": {
   "display_name": "Python 3",
   "language": "python",
   "name": "python3"
  },
  "language_info": {
   "codemirror_mode": {
    "name": "ipython",
    "version": 3
   },
   "file_extension": ".py",
   "mimetype": "text/x-python",
   "name": "python",
   "nbconvert_exporter": "python",
   "pygments_lexer": "ipython3",
   "version": "3.11.4"
  },
  "orig_nbformat": 4
 },
 "nbformat": 4,
 "nbformat_minor": 2
}
