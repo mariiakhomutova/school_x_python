{
 "cells": [
  {
   "cell_type": "code",
   "execution_count": 1,
   "id": "0ef01c47-a2cd-4d5e-86e5-58609c7a9d21",
   "metadata": {},
   "outputs": [],
   "source": [
    "class Character:\n",
    "   \n",
    "    def __init__(\n",
    "        self,\n",
    "        height_cm: int | float = 170,\n",
    "        weight_kg: int | float = 60,\n",
    "        universe: str = 'Fictional world',\n",
    "        magical_powers: bool = True\n",
    "    ):\n",
    "        self.height_cm = height_cm\n",
    "        self.weight_kg = weight_kg\n",
    "        self.universe = universe\n",
    "        self.magical_powers = magical_powers\n",
    "        print('Character Initialized')\n",
    "\n",
    "class Shrek(Character):\n",
    "    \n",
    "    def __init__(\n",
    "        self,\n",
    "        height_cm: int | float = 203,\n",
    "        weight_kg: int | float = 200,\n",
    "        skintone: str = 'green', \n",
    "        specie: str = 'ogre'\n",
    "    ):\n",
    "        self.height_cm = height_cm\n",
    "        self.weight_kg = weight_kg\n",
    "        self.skintone = skintone\n",
    "        self.specie = specie\n",
    "        print('Shrek Initialized')\n",
    "\n",
    "class Ladybug(Character):\n",
    "    \n",
    "    def __init__(\n",
    "        self, \n",
    "        height_cm: int | float = 165,\n",
    "        weight_kg: int | float = 52,\n",
    "        costume_color: str = 'red',\n",
    "        kwami: str = 'Tikki',  \n",
    "    ):\n",
    "        self.height_cm = height_cm\n",
    "        self.weight_kg = weight_kg\n",
    "        self.costume_color = costume_color\n",
    "        self.kwami = kwami\n",
    "        print('Ladybug Initialized')\n",
    "\n",
    "class Elsa(Character):\n",
    "    \n",
    "    def __init__(\n",
    "        self, \n",
    "        height_cm: int | float = 171,\n",
    "        weight_kg: int | float = 55,\n",
    "        dress_color: str = 'blue',\n",
    "        hairstyle: str = 'braid',\n",
    "        song: str = 'Let it Go',  \n",
    "    ):\n",
    "        self.height_cm = height_cm\n",
    "        self.weight_kg = weight_kg\n",
    "        self.dress_color = dress_color\n",
    "        self.hairstyle = hairstyle\n",
    "        self.song = song\n",
    "        print('Elsa Initialized')\n",
    "    "
   ]
  },
  {
   "cell_type": "code",
   "execution_count": 2,
   "id": "b04646fa-587f-468d-b1d3-03b8f79bacc2",
   "metadata": {},
   "outputs": [],
   "source": [
    "class MixinWalkable:\n",
    "    def walk(self):\n",
    "        print('I can walk')\n",
    "        \n",
    "class MixinBreakable:\n",
    "    def getbroken(self):\n",
    "        print('I can break')\n",
    "\n",
    "class MixinFallable:\n",
    "    def fall(self):\n",
    "        print('I can fall')\n",
    "\n",
    "class MixinAttackable:\n",
    "    def attack(self):\n",
    "        print('I can attack')\n",
    "\n",
    "class MixinStandable:\n",
    "    def stand(self):\n",
    "        print('I can stand')\n",
    "\n",
    "class MixinJumpable:\n",
    "    def jump(self):\n",
    "        print('I can jump')\n",
    "\n",
    "class MixinDustyGettable:\n",
    "    def getdusty(self):\n",
    "        print('I can get dusty')\n",
    "\n",
    "class MixinTalkable:\n",
    "    def talk(self):\n",
    "        print('I can talk')\n"
   ]
  },
  {
   "cell_type": "code",
   "execution_count": 3,
   "id": "63b7a519-8935-4266-a9e1-8c1de3116424",
   "metadata": {},
   "outputs": [],
   "source": [
    "class MixinPlayable(\n",
    "    MixinWalkable,\n",
    "    MixinFallable,\n",
    "    MixinAttackable,\n",
    "    MixinStandable,\n",
    "    MixinJumpable,\n",
    "    MixinTalkable\n",
    "):\n",
    "    pass"
   ]
  },
  {
   "cell_type": "code",
   "execution_count": 4,
   "id": "4477ac33-eef6-4cd9-b86d-9d2e7d62fcaf",
   "metadata": {},
   "outputs": [],
   "source": [
    "class MixinFunkoPop(\n",
    "    MixinBreakable,\n",
    "    MixinFallable,\n",
    "    MixinStandable,\n",
    "    MixinDustyGettable\n",
    "):\n",
    "    def __init__(\n",
    "        self,\n",
    "        height_cm: int | float = 10,\n",
    "        weight_kg: int | float = 0.15,\n",
    "    ):\n",
    "        self.height_cm = height_cm\n",
    "        self.weight_kg = weight_kg\n",
    "        print('MixinFunkoPop Initialized')\n",
    "        "
   ]
  },
  {
   "cell_type": "code",
   "execution_count": 5,
   "id": "6f79b77a-2b2e-401e-aeb6-238ce8697715",
   "metadata": {},
   "outputs": [],
   "source": [
    "class ShrekPlayable(\n",
    "    Shrek,\n",
    "    MixinPlayable\n",
    "):\n",
    "    pass\n",
    "\n",
    "class ShrekFunkoPop(\n",
    "    MixinFunkoPop,\n",
    "    Shrek\n",
    "):\n",
    "    pass"
   ]
  },
  {
   "cell_type": "code",
   "execution_count": 6,
   "id": "cd363bd5-ba5c-4511-90a0-e8ba32af0f00",
   "metadata": {},
   "outputs": [],
   "source": [
    "class LadybugPlayable(\n",
    "    Ladybug,\n",
    "    MixinPlayable\n",
    "):\n",
    "    pass\n",
    "\n",
    "class LadybugFunkoPop(\n",
    "    MixinFunkoPop,\n",
    "    Ladybug,\n",
    "):\n",
    "    pass\n",
    "    "
   ]
  },
  {
   "cell_type": "code",
   "execution_count": 7,
   "id": "0fdf5eeb-f9bb-4fad-a61c-92e1b2b1e513",
   "metadata": {},
   "outputs": [],
   "source": [
    "class ElsaPlayable(\n",
    "    Elsa,\n",
    "    MixinPlayable\n",
    "):\n",
    "    pass\n",
    "\n",
    "class ElsaFunkoPop(\n",
    "    MixinFunkoPop,\n",
    "    Elsa\n",
    "):\n",
    "    pass"
   ]
  },
  {
   "cell_type": "code",
   "execution_count": 8,
   "id": "d904ad9a-cccf-4ff5-a298-0bafd3a09692",
   "metadata": {},
   "outputs": [
    {
     "name": "stdout",
     "output_type": "stream",
     "text": [
      "Shrek Initialized\n",
      "I can fall\n"
     ]
    }
   ],
   "source": [
    "shrek1 = ShrekPlayable()\n",
    "shrek1.fall()"
   ]
  },
  {
   "cell_type": "code",
   "execution_count": 9,
   "id": "81352437-807a-43a3-a63b-ddc10622eda0",
   "metadata": {},
   "outputs": [
    {
     "data": {
      "text/plain": [
       "203"
      ]
     },
     "execution_count": 9,
     "metadata": {},
     "output_type": "execute_result"
    }
   ],
   "source": [
    "shrek1.height_cm"
   ]
  },
  {
   "cell_type": "code",
   "execution_count": 10,
   "id": "a692532c-20b2-49bd-ab0c-e06dddceb030",
   "metadata": {},
   "outputs": [
    {
     "name": "stdout",
     "output_type": "stream",
     "text": [
      "MixinFunkoPop Initialized\n",
      "I can get dusty\n"
     ]
    }
   ],
   "source": [
    "shrek2 = ShrekFunkoPop()\n",
    "shrek2.getdusty()"
   ]
  },
  {
   "cell_type": "code",
   "execution_count": 11,
   "id": "192cf8d6-89d0-419f-974d-7b654cf9354f",
   "metadata": {},
   "outputs": [
    {
     "data": {
      "text/plain": [
       "10"
      ]
     },
     "execution_count": 11,
     "metadata": {},
     "output_type": "execute_result"
    }
   ],
   "source": [
    "shrek2.height_cm"
   ]
  }
 ],
 "metadata": {
  "kernelspec": {
   "display_name": "Python 3 (ipykernel)",
   "language": "python",
   "name": "python3"
  },
  "language_info": {
   "codemirror_mode": {
    "name": "ipython",
    "version": 3
   },
   "file_extension": ".py",
   "mimetype": "text/x-python",
   "name": "python",
   "nbconvert_exporter": "python",
   "pygments_lexer": "ipython3",
   "version": "3.11.4"
  }
 },
 "nbformat": 4,
 "nbformat_minor": 5
}
