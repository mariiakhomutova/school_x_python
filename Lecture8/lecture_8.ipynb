{
 "cells": [
  {
   "cell_type": "code",
   "execution_count": 25,
   "metadata": {},
   "outputs": [],
   "source": [
    "class MosquitosCloud:\n",
    "    damage_per_mosquito: float = 1.7\n",
    "    mosquitos_in_cloud = 5\n",
    "\n",
    "    damage = damage_per_mosquito * mosquitos_in_cloud\n",
    "\n",
    "    def __init__(self,\n",
    "                damage_per_mosquito: float = 1.7,\n",
    "                 mosquitos_in_cloud: int = 5\n",
    "    ):\n",
    "        if damage_per_mosquito is not None and mosquitos_in_cloud is not None:\n",
    "            self.damage_per_mosquito = damage_per_mosquito\n",
    "            self.mosquitos_in_cloud = mosquitos_in_cloud\n",
    "            self.damage = damage_per_mosquito * mosquitos_in_cloud\n",
    "        else:\n",
    "            raise ValueError('Please provide correct variables')\n",
    "        \n",
    "    def __add__(self: 'MosquitosCloud', other: 'MosquitosCloud') -> 'MosquitosCloud':\n",
    "        new_mosquitos_cloud = MosquitosCloud(\n",
    "            damage_per_mosquito = (self.damage_per_mosquito + other.damage_per_mosquito)/2,\n",
    "            mosquitos_in_cloud = self.mosquitos_in_cloud + other.mosquitos_in_cloud\n",
    "        )\n",
    "        return new_mosquitos_cloud\n",
    "    \n",
    "    def __lt__(self, other):\n",
    "        return self.mosquitos_in_cloud < other.mosquitos_in_cloud\n",
    "    \n",
    "    def __le__(self, other):\n",
    "        return self.mosquitos_in_cloud <= other.mosquitos_in_cloud"
   ]
  },
  {
   "cell_type": "code",
   "execution_count": 26,
   "metadata": {},
   "outputs": [],
   "source": [
    "mcloud1 = MosquitosCloud()"
   ]
  },
  {
   "cell_type": "code",
   "execution_count": 27,
   "metadata": {},
   "outputs": [
    {
     "data": {
      "text/plain": [
       "8.5"
      ]
     },
     "execution_count": 27,
     "metadata": {},
     "output_type": "execute_result"
    }
   ],
   "source": [
    "mcloud1.damage"
   ]
  },
  {
   "cell_type": "code",
   "execution_count": 28,
   "metadata": {},
   "outputs": [
    {
     "data": {
      "text/plain": [
       "120"
      ]
     },
     "execution_count": 28,
     "metadata": {},
     "output_type": "execute_result"
    }
   ],
   "source": [
    "mcloud2 = MosquitosCloud(\n",
    "    12,\n",
    "    10\n",
    ")\n",
    "mcloud2.damage"
   ]
  },
  {
   "cell_type": "code",
   "execution_count": 29,
   "metadata": {},
   "outputs": [
    {
     "data": {
      "text/plain": [
       "(102.75, 6.85, 15)"
      ]
     },
     "execution_count": 29,
     "metadata": {},
     "output_type": "execute_result"
    }
   ],
   "source": [
    "mcloud3 = mcloud1 + mcloud2\n",
    "mcloud3.damage, mcloud3.damage_per_mosquito, mcloud3.mosquitos_in_cloud "
   ]
  },
  {
   "cell_type": "code",
   "execution_count": 30,
   "metadata": {},
   "outputs": [
    {
     "data": {
      "text/plain": [
       "False"
      ]
     },
     "execution_count": 30,
     "metadata": {},
     "output_type": "execute_result"
    }
   ],
   "source": [
    "mcloud1 >= mcloud2"
   ]
  }
 ],
 "metadata": {
  "kernelspec": {
   "display_name": "Python 3",
   "language": "python",
   "name": "python3"
  },
  "language_info": {
   "codemirror_mode": {
    "name": "ipython",
    "version": 3
   },
   "file_extension": ".py",
   "mimetype": "text/x-python",
   "name": "python",
   "nbconvert_exporter": "python",
   "pygments_lexer": "ipython3",
   "version": "3.11.4"
  },
  "orig_nbformat": 4
 },
 "nbformat": 4,
 "nbformat_minor": 2
}
