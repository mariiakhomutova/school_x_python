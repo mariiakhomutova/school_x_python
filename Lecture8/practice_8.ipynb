{
 "cells": [
  {
   "cell_type": "code",
   "execution_count": null,
   "metadata": {},
   "outputs": [],
   "source": [
    "class Matrix:\n",
    "\n",
    "    def __init__(\n",
    "          self,\n",
    "          array = []  \n",
    "    ):\n",
    "        self.array = array\n",
    "\n",
    "    def __len__(self):\n",
    "        \n",
    "        "
   ]
  },
  {
   "cell_type": "code",
   "execution_count": null,
   "metadata": {},
   "outputs": [],
   "source": []
  },
  {
   "cell_type": "code",
   "execution_count": null,
   "metadata": {},
   "outputs": [],
   "source": [
    "matrix1 = array([\n",
    "    [1, 1, 1],\n",
    "    [1, 2, 3],\n",
    "    [11, 12, 13],\n",
    "    [11, 22, 33]\n",
    "])\n",
    "\n",
    "matrix2 = array([\n",
    "    [1, 2, 3],\n",
    "    [7, 8, 9],\n",
    "    [77, 12, 12]\n",
    "    [2, 1, 45]\n",
    "])"
   ]
  }
 ],
 "metadata": {
  "language_info": {
   "name": "python"
  },
  "orig_nbformat": 4
 },
 "nbformat": 4,
 "nbformat_minor": 2
}
