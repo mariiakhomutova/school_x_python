{
 "cells": [
  {
   "cell_type": "code",
   "execution_count": 82,
   "metadata": {},
   "outputs": [],
   "source": [
    "import pandas as pd\n",
    "import matplotlib.pyplot as plt\n",
    "import seaborn as sns\n",
    "import numpy as np\n",
    "import nltk\n",
    "from nltk.corpus import stopwords\n",
    "from sklearn.model_selection import train_test_split\n",
    "from sklearn.feature_extraction.text import CountVectorizer\n",
    "from sklearn.naive_bayes import MultinomialNB\n",
    "from sklearn.metrics import accuracy_score, precision_score, recall_score, f1_score\n",
    "from sklearn.linear_model import LogisticRegression\n",
    "import torch\n",
    "import torch.nn as nn\n",
    "import torch.optim as optim\n",
    "from torch.utils.data import DataLoader, TensorDataset\n",
    "from keras.preprocessing.text import Tokenizer"
   ]
  },
  {
   "cell_type": "markdown",
   "metadata": {},
   "source": [
    "Изучение датасета"
   ]
  },
  {
   "cell_type": "code",
   "execution_count": 61,
   "metadata": {},
   "outputs": [],
   "source": [
    "data = pd.read_csv('train.csv')"
   ]
  },
  {
   "cell_type": "code",
   "execution_count": 62,
   "metadata": {},
   "outputs": [
    {
     "data": {
      "text/html": [
       "<div>\n",
       "<style scoped>\n",
       "    .dataframe tbody tr th:only-of-type {\n",
       "        vertical-align: middle;\n",
       "    }\n",
       "\n",
       "    .dataframe tbody tr th {\n",
       "        vertical-align: top;\n",
       "    }\n",
       "\n",
       "    .dataframe thead th {\n",
       "        text-align: right;\n",
       "    }\n",
       "</style>\n",
       "<table border=\"1\" class=\"dataframe\">\n",
       "  <thead>\n",
       "    <tr style=\"text-align: right;\">\n",
       "      <th></th>\n",
       "      <th>sms</th>\n",
       "      <th>label</th>\n",
       "    </tr>\n",
       "  </thead>\n",
       "  <tbody>\n",
       "    <tr>\n",
       "      <th>0</th>\n",
       "      <td>Go until jurong point, crazy.. Available only ...</td>\n",
       "      <td>0</td>\n",
       "    </tr>\n",
       "    <tr>\n",
       "      <th>1</th>\n",
       "      <td>Ok lar... Joking wif u oni...\\n</td>\n",
       "      <td>0</td>\n",
       "    </tr>\n",
       "    <tr>\n",
       "      <th>2</th>\n",
       "      <td>Free entry in 2 a wkly comp to win FA Cup fina...</td>\n",
       "      <td>1</td>\n",
       "    </tr>\n",
       "    <tr>\n",
       "      <th>3</th>\n",
       "      <td>U dun say so early hor... U c already then say...</td>\n",
       "      <td>0</td>\n",
       "    </tr>\n",
       "    <tr>\n",
       "      <th>4</th>\n",
       "      <td>Nah I don't think he goes to usf, he lives aro...</td>\n",
       "      <td>0</td>\n",
       "    </tr>\n",
       "  </tbody>\n",
       "</table>\n",
       "</div>"
      ],
      "text/plain": [
       "                                                 sms  label\n",
       "0  Go until jurong point, crazy.. Available only ...      0\n",
       "1                    Ok lar... Joking wif u oni...\\n      0\n",
       "2  Free entry in 2 a wkly comp to win FA Cup fina...      1\n",
       "3  U dun say so early hor... U c already then say...      0\n",
       "4  Nah I don't think he goes to usf, he lives aro...      0"
      ]
     },
     "execution_count": 62,
     "metadata": {},
     "output_type": "execute_result"
    }
   ],
   "source": [
    "data.head()"
   ]
  },
  {
   "cell_type": "code",
   "execution_count": 63,
   "metadata": {},
   "outputs": [
    {
     "name": "stdout",
     "output_type": "stream",
     "text": [
      "<class 'pandas.core.frame.DataFrame'>\n",
      "RangeIndex: 5574 entries, 0 to 5573\n",
      "Data columns (total 2 columns):\n",
      " #   Column  Non-Null Count  Dtype \n",
      "---  ------  --------------  ----- \n",
      " 0   sms     5574 non-null   object\n",
      " 1   label   5574 non-null   int64 \n",
      "dtypes: int64(1), object(1)\n",
      "memory usage: 87.2+ KB\n"
     ]
    }
   ],
   "source": [
    "data.info()"
   ]
  },
  {
   "cell_type": "code",
   "execution_count": 64,
   "metadata": {},
   "outputs": [
    {
     "data": {
      "text/plain": [
       "sms      0\n",
       "label    0\n",
       "dtype: int64"
      ]
     },
     "execution_count": 64,
     "metadata": {},
     "output_type": "execute_result"
    }
   ],
   "source": [
    "data.isnull().sum()"
   ]
  },
  {
   "cell_type": "code",
   "execution_count": 65,
   "metadata": {},
   "outputs": [
    {
     "data": {
      "text/plain": [
       "Text(0.5, 1.0, 'Распределение смс')"
      ]
     },
     "execution_count": 65,
     "metadata": {},
     "output_type": "execute_result"
    },
    {
     "data": {
      "image/png": "[encoded data removed]",
      "text/plain": [
       "<Figure size 640x480 with 1 Axes>"
      ]
     },
     "metadata": {},
     "output_type": "display_data"
    }
   ],
   "source": [
    "sns.countplot(x = \"label\", data = data)\n",
    "plt.title(\"Распределение смс\")"
   ]
  },
  {
   "cell_type": "code",
   "execution_count": 66,
   "metadata": {},
   "outputs": [
    {
     "data": {
      "text/plain": [
       "label\n",
       "0    4827\n",
       "1     747\n",
       "Name: count, dtype: int64"
      ]
     },
     "execution_count": 66,
     "metadata": {},
     "output_type": "execute_result"
    }
   ],
   "source": [
    "data['label'].value_counts()"
   ]
  },
  {
   "cell_type": "markdown",
   "metadata": {},
   "source": [
    "Предобработка"
   ]
  },
  {
   "cell_type": "code",
   "execution_count": 67,
   "metadata": {},
   "outputs": [],
   "source": [
    "stopwords = stopwords.words('english') "
   ]
  },
  {
   "cell_type": "code",
   "execution_count": 68,
   "metadata": {},
   "outputs": [],
   "source": [
    "def preprocessing(data, stopwords):\n",
    "    data['sms'] = data['sms'].str.lower() \n",
    "    data['sms'] = data['sms'].str.replace('[^A-Za-z0-9]+', ' ', regex=True)\n",
    "    data['sms'] = data['sms'].apply(lambda words: ' '.join(word.lower() for word in words.split() if word not in stopwords))  \n",
    "    \n",
    "    return data "
   ]
  },
  {
   "cell_type": "code",
   "execution_count": 69,
   "metadata": {},
   "outputs": [],
   "source": [
    "data = preprocessing(data, stopwords)  "
   ]
  },
  {
   "cell_type": "markdown",
   "metadata": {},
   "source": [
    "Классическая модель"
   ]
  },
  {
   "cell_type": "code",
   "execution_count": 70,
   "metadata": {},
   "outputs": [],
   "source": [
    "X_train, X_test, y_train, y_test = train_test_split(data['sms'], data['label'], test_size=0.2, random_state=61)"
   ]
  },
  {
   "cell_type": "code",
   "execution_count": 71,
   "metadata": {},
   "outputs": [],
   "source": [
    "vectorize = CountVectorizer()\n",
    "X_train = vectorize.fit_transform(X_train)\n",
    "X_test = vectorize.transform(X_test)"
   ]
  },
  {
   "cell_type": "markdown",
   "metadata": {},
   "source": [
    "Для выбора самой подходящей модели для моей задачи я решила сравнить наивный байесовский классификатор и логистическую регрессию.\n",
    "Критерии сравнения - метрики: доля правильных ответов, точность, полнота, оценка F1."
   ]
  },
  {
   "cell_type": "code",
   "execution_count": 72,
   "metadata": {},
   "outputs": [
    {
     "name": "stdout",
     "output_type": "stream",
     "text": [
      "Наивный байесовский классификатор:\n",
      "Доля правильных ответов: 0.9856502242152466\n",
      "Точность: 0.9530201342281879\n",
      "Полнота: 0.9403973509933775\n",
      "Оценка F1: 0.9466666666666667\n"
     ]
    }
   ],
   "source": [
    "naivebayes = MultinomialNB()\n",
    "naivebayes.fit(X_train, y_train)\n",
    "y_pred_naivebayes = naivebayes.predict(X_test)\n",
    "print(\"Наивный байесовский классификатор:\")\n",
    "print(\"Доля правильных ответов:\", accuracy_score(y_test, y_pred_naivebayes))\n",
    "print(\"Точность:\", precision_score(y_test, y_pred_naivebayes, pos_label=1))\n",
    "print(\"Полнота:\", recall_score(y_test, y_pred_naivebayes, pos_label=1))\n",
    "print(\"Оценка F1:\", f1_score(y_test, y_pred_naivebayes, pos_label=1))"
   ]
  },
  {
   "cell_type": "code",
   "execution_count": 73,
   "metadata": {},
   "outputs": [
    {
     "name": "stdout",
     "output_type": "stream",
     "text": [
      "Логистическая регрессия:\n",
      "Доля правильных ответов: 0.9802690582959641\n",
      "Точность: 0.9849624060150376\n",
      "Полнота: 0.8675496688741722\n",
      "Оценка F1: 0.9225352112676055\n"
     ]
    }
   ],
   "source": [
    "logisticregression = LogisticRegression()\n",
    "logisticregression.fit(X_train, y_train)\n",
    "y_pred_logisticregression = logisticregression.predict(X_test)\n",
    "print(\"Логистическая регрессия:\")\n",
    "print(\"Доля правильных ответов:\", accuracy_score(y_test, y_pred_logisticregression))\n",
    "print(\"Точность:\", precision_score(y_test, y_pred_logisticregression, pos_label=1))\n",
    "print(\"Полнота:\", recall_score(y_test, y_pred_logisticregression, pos_label=1))\n",
    "print(\"Оценка F1:\", f1_score(y_test, y_pred_logisticregression, pos_label=1))"
   ]
  },
  {
   "cell_type": "markdown",
   "metadata": {},
   "source": [
    "Судя по показателям, обе модели предельно точные. Однако наивный байесовский классификатор оказался немного более подходящим для этой определенной задачи."
   ]
  },
  {
   "cell_type": "code",
   "execution_count": 74,
   "metadata": {},
   "outputs": [
    {
     "name": "stdout",
     "output_type": "stream",
     "text": [
      "Этот текст - спам\n"
     ]
    }
   ],
   "source": [
    "text = \"Click this link to claim your prize.\"\n",
    "\n",
    "text_vectorize = vectorize.transform([text])\n",
    "\n",
    "class_predict = naivebayes.predict_proba(text_vectorize)[0]\n",
    "class_index = np.argmax(class_predict)\n",
    "if class_index == 0:\n",
    "    predicted_class = 'не спам'\n",
    "else:\n",
    "    predicted_class = 'спам'\n",
    "\n",
    "print(\"Этот текст -\", predicted_class)"
   ]
  },
  {
   "cell_type": "markdown",
   "metadata": {},
   "source": [
    "НС"
   ]
  },
  {
   "cell_type": "code",
   "execution_count": 89,
   "metadata": {},
   "outputs": [],
   "source": [
    "train_sms, valid_sms, train_label, valid_label = train_test_split(data[\"sms\"], data[\"label\"], test_size=0.2)"
   ]
  },
  {
   "cell_type": "code",
   "execution_count": 83,
   "metadata": {},
   "outputs": [],
   "source": [
    "tok = Tokenizer(num_words=750)\n",
    "tok.fit_on_texts(train_sms)\n",
    "X_train = tok.texts_to_matrix(train_sms, mode='tfidf')\n",
    "X_valid = tok.texts_to_matrix(valid_sms, mode='tfidf')"
   ]
  },
  {
   "cell_type": "code",
   "execution_count": 84,
   "metadata": {},
   "outputs": [],
   "source": [
    "X_train = torch.from_numpy(X_train).float()\n",
    "y_train = torch.from_numpy(train_label.values).long()\n",
    "X_valid = torch.from_numpy(X_valid).float()\n",
    "y_valid = torch.from_numpy(valid_label.values).long()"
   ]
  },
  {
   "cell_type": "code",
   "execution_count": 85,
   "metadata": {},
   "outputs": [],
   "source": [
    "train_dataset = TensorDataset(X_train, y_train)\n",
    "train_loader = DataLoader(train_dataset, batch_size=32, shuffle=True)"
   ]
  },
  {
   "cell_type": "code",
   "execution_count": 86,
   "metadata": {},
   "outputs": [],
   "source": [
    "class Model(nn.Module):\n",
    "    def __init__(self, input_size, hidden_size, output_size):\n",
    "        super(Model, self).__init__()\n",
    "        self.l1 = nn.Linear(input_size, hidden_size)\n",
    "        self.l2 = nn.Linear(hidden_size , hidden_size)\n",
    "        self.l3 = nn.Linear(hidden_size, output_size)\n",
    "        self.dropout = nn.Dropout(0.5)\n",
    "\n",
    "    def forward(self, x):\n",
    "        out = F.relu(self.l1(x))\n",
    "        out = self.dropout(out)\n",
    "        out = F.relu(self.l2(out))\n",
    "        out = self.dropout(out)\n",
    "        out = self.l3(out)\n",
    "        return out\n",
    "    \n",
    "input_size = 750\n",
    "hidden_size = 100\n",
    "output_size = 2\n",
    "model = Model(input_size, hidden_size, output_size)"
   ]
  },
  {
   "cell_type": "code",
   "execution_count": 87,
   "metadata": {},
   "outputs": [],
   "source": [
    "criterion = nn.CrossEntropyLoss()\n",
    "optimizer = optim.Adam(model.parameters(), lr=0.001)"
   ]
  },
  {
   "cell_type": "code",
   "execution_count": 88,
   "metadata": {},
   "outputs": [],
   "source": [
    "device = torch.device(\"cuda\" if torch.cuda.is_available() else \"cpu\")\n",
    "model.to(device)\n",
    "epochs = 25\n",
    "best_valid_loss = float('inf')\n",
    "for epoch in range(epochs):\n",
    "    train_losses = []\n",
    "    train_accs = []\n",
    "    valid_losses = []\n",
    "    valid_accs = []\n",
    "    model.train()\n",
    "    for x_batch, y_batch in train_loader:\n",
    "        x_batch, y_batch = x_batch.to(device), y_batch.to(device)\n",
    "        optimizer.zero_grad()\n",
    "        y_pred = model(x_batch)\n",
    "        loss = criterion(y_pred, y_batch)\n",
    "        loss.backward()\n",
    "        optimizer.step()\n",
    "        train_losses.append(loss.item())\n",
    "        train_pred = torch.max(y_pred, 1)[1]\n",
    "        train_acc = accuracy_score(y_batch.cpu().numpy(), train_pred.cpu().numpy())\n",
    "        train_accs.append(train_acc)\n",
    "    model.eval()\n",
    "    with torch.no_grad():\n",
    "        y_pred = model(X_valid.to(device))\n",
    "        valid_loss = criterion(y_pred, y_valid.to(device))\n",
    "        valid_losses.append(valid_loss.item())\n",
    "        valid_pred = torch.max(y_pred, 1)[1]\n",
    "        valid_acc = accuracy_score(y_valid.cpu().numpy(), valid_pred.cpu().numpy())\n",
    "        valid_accs.append(valid_acc)\n",
    "        if valid_loss < best_valid_loss:\n",
    "            best_valid_loss = valid_loss\n",
    "            torch.save(model.state_dict(), 'best_model.pt')\n",
    "        else:\n",
    "            break"
   ]
  },
  {
   "cell_type": "code",
   "execution_count": 91,
   "metadata": {},
   "outputs": [
    {
     "name": "stdout",
     "output_type": "stream",
     "text": [
      "Доля правильных ответов: 0.9857,  Точность: 0.9792,  Полнота: 0.9156, Оценка F1: 0.9463\n"
     ]
    }
   ],
   "source": [
    "model.load_state_dict(torch.load('best_model.pt'))\n",
    "model.eval()\n",
    "y_pred = model(X_valid.to(device))\n",
    "valid_pred = torch.max(y_pred, 1)[1]\n",
    "valid_accuracy = accuracy_score(y_valid.cpu().numpy(), valid_pred.cpu().numpy())\n",
    "valid_precision = precision_score(y_valid.cpu().numpy(), valid_pred.cpu().numpy())\n",
    "valid_recall = recall_score(y_valid.cpu().numpy(), valid_pred.cpu().numpy())\n",
    "valid_f1 = f1_score(y_valid.cpu().numpy(), valid_pred.cpu().numpy())\n",
    "print(f'Доля правильных ответов: {valid_accuracy:.4f},  Точность: {valid_precision:.4f},  Полнота: {valid_recall:.4f}, Оценка F1: {valid_f1:.4f}')"
   ]
  },
  {
   "cell_type": "code",
   "execution_count": 97,
   "metadata": {},
   "outputs": [
    {
     "name": "stdout",
     "output_type": "stream",
     "text": [
      "не спам\n"
     ]
    }
   ],
   "source": [
    "text = [\"PyTorch is the best!\"]\n",
    "tok_test = tok.texts_to_matrix(text, mode='tfidf')\n",
    "X_test = torch.from_numpy(tok_test).float()\n",
    "model.eval()\n",
    "y_pred = model(X_test.to(device))\n",
    "test_pred = torch.max(y_pred, 1)[1]\n",
    "for i, pred in enumerate(test_pred.cpu().numpy()):    \n",
    "    if pred == 0:        \n",
    "        print(f\"не спам\")    \n",
    "    else:        \n",
    "        print(f\"спам\")"
   ]
  },
  {
   "cell_type": "markdown",
   "metadata": {},
   "source": [
    "Высокие значения метрик и успешная проверка модели на произвольном фрагменте текста показывают, что эта нейронная сеть torch - отличный вариант для задач классификации текста."
   ]
  }
 ],
 "metadata": {
  "kernelspec": {
   "display_name": "Python 3",
   "language": "python",
   "name": "python3"
  },
  "language_info": {
   "codemirror_mode": {
    "name": "ipython",
    "version": 3
   },
   "file_extension": ".py",
   "mimetype": "text/x-python",
   "name": "python",
   "nbconvert_exporter": "python",
   "pygments_lexer": "ipython3",
   "version": "3.11.4"
  }
 },
 "nbformat": 4,
 "nbformat_minor": 2
}
