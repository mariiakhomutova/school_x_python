{
 "cells": [
  {
   "cell_type": "code",
   "execution_count": null,
   "metadata": {},
   "outputs": [
    {
     "name": "stdout",
     "output_type": "stream",
     "text": [
      "Requirement already satisfied: nltk in c:\\users\\maria\\appdata\\local\\programs\\python\\python311\\lib\\site-packages (3.8.1)\n",
      "Requirement already satisfied: click in c:\\users\\maria\\appdata\\roaming\\python\\python311\\site-packages (from nltk) (8.1.7)\n",
      "Requirement already satisfied: joblib in c:\\users\\maria\\appdata\\local\\programs\\python\\python311\\lib\\site-packages (from nltk) (1.3.2)\n",
      "Requirement already satisfied: regex>=2021.8.3 in c:\\users\\maria\\appdata\\local\\programs\\python\\python311\\lib\\site-packages (from nltk) (2023.10.3)\n",
      "Requirement already satisfied: tqdm in c:\\users\\maria\\appdata\\local\\programs\\python\\python311\\lib\\site-packages (from nltk) (4.66.1)\n",
      "Requirement already satisfied: colorama in c:\\users\\maria\\appdata\\roaming\\python\\python311\\site-packages (from click->nltk) (0.4.6)\n",
      "Note: you may need to restart the kernel to use updated packages.\n",
      "Requirement already satisfied: numpy in c:\\users\\maria\\appdata\\local\\programs\\python\\python311\\lib\\site-packages (1.26.1)\n",
      "Note: you may need to restart the kernel to use updated packages.\n",
      "Collecting scikit-learn\n",
      "  Downloading scikit_learn-1.3.2-cp311-cp311-win_amd64.whl.metadata (11 kB)\n",
      "Requirement already satisfied: numpy<2.0,>=1.17.3 in c:\\users\\maria\\appdata\\local\\programs\\python\\python311\\lib\\site-packages (from scikit-learn) (1.26.1)\n",
      "Requirement already satisfied: scipy>=1.5.0 in c:\\users\\maria\\appdata\\roaming\\python\\python311\\site-packages (from scikit-learn) (1.11.3)\n",
      "Requirement already satisfied: joblib>=1.1.1 in c:\\users\\maria\\appdata\\local\\programs\\python\\python311\\lib\\site-packages (from scikit-learn) (1.3.2)\n",
      "Collecting threadpoolctl>=2.0.0 (from scikit-learn)\n",
      "  Downloading threadpoolctl-3.2.0-py3-none-any.whl.metadata (10.0 kB)\n",
      "Downloading scikit_learn-1.3.2-cp311-cp311-win_amd64.whl (9.2 MB)\n",
      "   ---------------------------------------- 0.0/9.2 MB ? eta -:--:--\n",
      "   ---------------------------------------- 0.0/9.2 MB 653.6 kB/s eta 0:00:15\n",
      "   ---------------------------------------- 0.1/9.2 MB 1.3 MB/s eta 0:00:08\n",
      "   - -------------------------------------- 0.2/9.2 MB 1.8 MB/s eta 0:00:05\n",
      "   - -------------------------------------- 0.4/9.2 MB 2.1 MB/s eta 0:00:05\n",
      "   -- ------------------------------------- 0.6/9.2 MB 2.4 MB/s eta 0:00:04\n",
      "   --- ------------------------------------ 0.9/9.2 MB 3.4 MB/s eta 0:00:03\n",
      "   ---- ----------------------------------- 0.9/9.2 MB 2.8 MB/s eta 0:00:03\n",
      "   ------- -------------------------------- 1.6/9.2 MB 4.5 MB/s eta 0:00:02\n",
      "   ------- -------------------------------- 1.6/9.2 MB 4.5 MB/s eta 0:00:02\n",
      "   ---------- ----------------------------- 2.5/9.2 MB 5.7 MB/s eta 0:00:02\n",
      "   ---------- ----------------------------- 2.5/9.2 MB 5.7 MB/s eta 0:00:02\n",
      "   -------------- ------------------------- 3.4/9.2 MB 6.2 MB/s eta 0:00:01\n",
      "   -------------- ------------------------- 3.4/9.2 MB 6.2 MB/s eta 0:00:01\n",
      "   ----------------- ---------------------- 4.0/9.2 MB 6.3 MB/s eta 0:00:01\n",
      "   ------------------ --------------------- 4.2/9.2 MB 6.1 MB/s eta 0:00:01\n",
      "   ------------------- -------------------- 4.5/9.2 MB 6.1 MB/s eta 0:00:01\n",
      "   -------------------- ------------------- 4.7/9.2 MB 6.1 MB/s eta 0:00:01\n",
      "   --------------------- ------------------ 5.0/9.2 MB 6.0 MB/s eta 0:00:01\n",
      "   ---------------------- ----------------- 5.2/9.2 MB 5.9 MB/s eta 0:00:01\n",
      "   ---------------------- ----------------- 5.2/9.2 MB 5.7 MB/s eta 0:00:01\n",
      "   ------------------------ --------------- 5.6/9.2 MB 5.7 MB/s eta 0:00:01\n",
      "   ------------------------ --------------- 5.7/9.2 MB 5.7 MB/s eta 0:00:01\n",
      "   ------------------------- -------------- 6.0/9.2 MB 5.7 MB/s eta 0:00:01\n",
      "   -------------------------- ------------- 6.0/9.2 MB 5.6 MB/s eta 0:00:01\n",
      "   --------------------------- ------------ 6.3/9.2 MB 5.6 MB/s eta 0:00:01\n",
      "   ---------------------------- ----------- 6.6/9.2 MB 5.4 MB/s eta 0:00:01\n",
      "   ----------------------------- ---------- 6.7/9.2 MB 5.4 MB/s eta 0:00:01\n",
      "   ------------------------------ --------- 7.0/9.2 MB 5.4 MB/s eta 0:00:01\n",
      "   ------------------------------- -------- 7.2/9.2 MB 5.4 MB/s eta 0:00:01\n",
      "   ------------------------------- -------- 7.2/9.2 MB 5.3 MB/s eta 0:00:01\n",
      "   ------------------------------- -------- 7.2/9.2 MB 5.1 MB/s eta 0:00:01\n",
      "   -------------------------------- ------- 7.5/9.2 MB 5.1 MB/s eta 0:00:01\n",
      "   -------------------------------- ------- 7.5/9.2 MB 5.1 MB/s eta 0:00:01\n",
      "   --------------------------------- ------ 7.7/9.2 MB 4.9 MB/s eta 0:00:01\n",
      "   --------------------------------- ------ 7.8/9.2 MB 4.9 MB/s eta 0:00:01\n",
      "   ---------------------------------- ----- 8.0/9.2 MB 4.9 MB/s eta 0:00:01\n",
      "   ----------------------------------- ---- 8.1/9.2 MB 4.8 MB/s eta 0:00:01\n",
      "   ----------------------------------- ---- 8.1/9.2 MB 4.7 MB/s eta 0:00:01\n",
      "   ------------------------------------ --- 8.4/9.2 MB 4.8 MB/s eta 0:00:01\n",
      "   ------------------------------------ --- 8.5/9.2 MB 4.6 MB/s eta 0:00:01\n",
      "   ------------------------------------- -- 8.6/9.2 MB 4.6 MB/s eta 0:00:01\n",
      "   -------------------------------------- - 8.9/9.2 MB 4.6 MB/s eta 0:00:01\n",
      "   ---------------------------------------  9.0/9.2 MB 4.6 MB/s eta 0:00:01\n",
      "   ---------------------------------------  9.2/9.2 MB 4.6 MB/s eta 0:00:01\n",
      "   ---------------------------------------- 9.2/9.2 MB 4.6 MB/s eta 0:00:00\n",
      "Downloading threadpoolctl-3.2.0-py3-none-any.whl (15 kB)\n",
      "Installing collected packages: threadpoolctl, scikit-learn\n",
      "Successfully installed scikit-learn-1.3.2 threadpoolctl-3.2.0\n",
      "Note: you may need to restart the kernel to use updated packages.\n"
     ]
    }
   ],
   "source": [
    "%pip install nltk\n",
    "%pip install numpy\n",
    "%pip install scikit-learn"
   ]
  },
  {
   "cell_type": "code",
   "execution_count": null,
   "metadata": {},
   "outputs": [],
   "source": [
    "from nltk import WhitespaceTokenizer\n",
    "from nltk.corpus import stopwords\n",
    "import numpy as np\n",
    "from sklearn.metrics.pairwise import cosine_similarity\n",
    "from sklearn.feature_extraction.text import CountVectorizer\n",
    "import spacy"
   ]
  },
  {
   "cell_type": "code",
   "execution_count": null,
   "metadata": {},
   "outputs": [],
   "source": [
    "nlp = spacy.load('ru_core_news_sm')"
   ]
  },
  {
   "cell_type": "code",
   "execution_count": null,
   "metadata": {},
   "outputs": [],
   "source": [
    "Mashenka = open(\"c:\\\\Users\\\\maria\\\\Downloads\\\\Nabokov_Mashenka.txt\").read() # Машенька (1926)\n",
    "Camera = open(\"c:\\\\Users\\\\maria\\\\Downloads\\\\Camera_Obscura.txt\").read() # Камера обскура (1932)\n",
    "Despair = open(\"c:\\\\Users\\\\maria\\\\Downloads\\\\Nabokov_-_Otchayanie.txt\").read() # Отчаяние (1934)\n",
    "Gift = open(\"c:\\\\Users\\\\maria\\\\Downloads\\\\Dar.txt\").read() # Дар (1938)\n",
    "Lolita = open(\"c:\\\\Users\\\\maria\\\\Downloads\\\\Lolita1.txt\").read() # Лолита (1955)\n",
    "Transparent = open(\"c:\\\\Users\\\\maria\\\\Downloads\\\\Prozrachnye_predmety.txt\").read() # Прозрачные предметы (1972)\n",
    "books = [Mashenka, Camera, Despair, Gift, Lolita, Transparent]"
   ]
  },
  {
   "cell_type": "code",
   "execution_count": 43,
   "metadata": {},
   "outputs": [],
   "source": [
    "def preprocessing(text):\n",
    "    words = WhitespaceTokenizer().tokenize(text)\n",
    "    stop = stopwords.words('russian')\n",
    "    filtered_words = [word for word in words if word.lower() not in stop]\n",
    "    doc = nlp(' '.join(filtered_words))\n",
    "    words_lemma = [token.lemma_ for token in doc if not token.is_punct and not token.is_stop]\n",
    "    return words_lemma"
   ]
  },
  {
   "cell_type": "code",
   "execution_count": 44,
   "metadata": {},
   "outputs": [],
   "source": [
    "def calculate_cosine_similarity(books):\n",
    "    preprocessed_books = [preprocessing(book) for book in books]\n",
    "    preprocessed_books_to_strings = [' '.join(book) for book in preprocessed_books]\n",
    "    vectors = CountVectorizer()\n",
    "    book_vectors = vectors.fit_transform(preprocessed_books_to_strings)\n",
    "    similarity = cosine_similarity(book_vectors)\n",
    "    return similarity"
   ]
  },
  {
   "cell_type": "code",
   "execution_count": 45,
   "metadata": {},
   "outputs": [
    {
     "name": "stdout",
     "output_type": "stream",
     "text": [
      "[[1.         0.47905606 0.4319147  0.52034337 0.55168111 0.43015325]\n",
      " [0.47905606 1.         0.45089082 0.51961437 0.58332526 0.44917287]\n",
      " [0.4319147  0.45089082 1.         0.50472642 0.54457718 0.42720581]\n",
      " [0.52034337 0.51961437 0.50472642 1.         0.69576613 0.5700097 ]\n",
      " [0.55168111 0.58332526 0.54457718 0.69576613 1.         0.64537399]\n",
      " [0.43015325 0.44917287 0.42720581 0.5700097  0.64537399 1.        ]]\n"
     ]
    }
   ],
   "source": [
    "similarity_matrix = calculate_cosine_similarity(books)\n",
    "print(similarity_matrix)"
   ]
  }
 ],
 "metadata": {
  "kernelspec": {
   "display_name": "Python 3",
   "language": "python",
   "name": "python3"
  },
  "language_info": {
   "codemirror_mode": {
    "name": "ipython",
    "version": 3
   },
   "file_extension": ".py",
   "mimetype": "text/x-python",
   "name": "python",
   "nbconvert_exporter": "python",
   "pygments_lexer": "ipython3",
   "version": "3.11.4"
  }
 },
 "nbformat": 4,
 "nbformat_minor": 2
}
