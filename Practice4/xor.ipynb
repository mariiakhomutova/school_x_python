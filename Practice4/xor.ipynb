{
 "cells": [
  {
   "cell_type": "code",
   "execution_count": 98,
   "metadata": {},
   "outputs": [],
   "source": [
    "import numpy as np"
   ]
  },
  {
   "cell_type": "code",
   "execution_count": 99,
   "metadata": {},
   "outputs": [],
   "source": [
    "def sigmoid(x):\n",
    "    return 1 / (1 + np.exp(-x))\n",
    "\n",
    "def sigmoid_derivative(x):\n",
    "    return x * (1 - x)"
   ]
  },
  {
   "cell_type": "code",
   "execution_count": 109,
   "metadata": {},
   "outputs": [
    {
     "name": "stdout",
     "output_type": "stream",
     "text": [
      "[[0.]\n",
      " [1.]\n",
      " [1.]\n",
      " [0.]]\n"
     ]
    }
   ],
   "source": [
    "epochs = 15000\n",
    "input_layer = 2\n",
    "hidden_layer = 3\n",
    "output_layer = 1\n",
    "learning_rate = 0.1\n",
    "\n",
    "X = np.array([[-1, -1], [-1, 1], [1, -1], [1, 1]])\n",
    "Y = np.array([[0], [1], [1], [0]])\n",
    "\n",
    "W1 = np.random.uniform(size=(input_layer, hidden_layer))\n",
    "b1 = np.random.uniform(size=(1, hidden_layer))\n",
    "W2 = np.random.uniform(size=(hidden_layer, output_layer))\n",
    "b2 = np.random.uniform(size=(1, output_layer))\n",
    "\n",
    "for i in range(epochs):\n",
    "    hidden_layer_input = np.dot(X, W1) + b1\n",
    "    hidden_layer_activations = sigmoid(hidden_layer_input)\n",
    "    output_layer_input = np.dot(hidden_layer_activations, W2) + b2\n",
    "    Z = sigmoid(output_layer_input)\n",
    "  \n",
    "    E = Y - Z\n",
    "    output_layer_gradient = sigmoid_derivative(Z)\n",
    "    hidden_layer_gradient = sigmoid_derivative(hidden_layer_activations)\n",
    "    output_derivative = E * output_layer_gradient\n",
    "    Error_hidden_layer = output_derivative.dot(W2.T)\n",
    "    hidden_layer_derivative = Error_hidden_layer * hidden_layer_gradient \n",
    "\n",
    "    W2 += learning_rate * hidden_layer_activations.T.dot(output_derivative)\n",
    "    b2 += learning_rate * np.sum(output_derivative, axis=0, keepdims=True)\n",
    "    W1 += learning_rate * X.T.dot(hidden_layer_derivative)\n",
    "    b1 += learning_rate * np.sum(hidden_layer_derivative, axis=0, keepdims=True)\n",
    "\n",
    "print(np.round(Z))\n",
    "    "
   ]
  }
 ],
 "metadata": {
  "kernelspec": {
   "display_name": "Python 3",
   "language": "python",
   "name": "python3"
  },
  "language_info": {
   "codemirror_mode": {
    "name": "ipython",
    "version": 3
   },
   "file_extension": ".py",
   "mimetype": "text/x-python",
   "name": "python",
   "nbconvert_exporter": "python",
   "pygments_lexer": "ipython3",
   "version": "3.11.4"
  }
 },
 "nbformat": 4,
 "nbformat_minor": 2
}
