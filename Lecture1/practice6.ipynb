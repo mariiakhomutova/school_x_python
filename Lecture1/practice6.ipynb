{
 "cells": [
  {
   "cell_type": "code",
   "execution_count": 16,
   "id": "0eaf4490-e130-4514-96ca-da39f781246f",
   "metadata": {},
   "outputs": [],
   "source": [
    "class Character:\n",
    "\n",
    "    def __init__(\n",
    "        self, \n",
    "        iq: float | int = 100, \n",
    "        agility: float | int = 85,\n",
    "        strength: float | int = 70,\n",
    "        empathy: float | int = 1,\n",
    "        trade_object: str = 'diamond'\n",
    "    ):\n",
    "        self.iq = iq\n",
    "        self.agility = agility\n",
    "        self.strength = strength\n",
    "        self.empathy = empathy\n",
    "        self.trade_object = trade_object\n",
    "        self.speed = agility / 10\n",
    "        self.damage = iq + strength\n",
    "                \n",
    "    def move(self): \n",
    "        if self.speed > 0: \n",
    "            print('I am moving at the speed of ', self.speed)\n",
    "        else:\n",
    "            print('I am waiting')\n",
    "        \n",
    "    def think(self):\n",
    "        if self.iq < 40:\n",
    "            print('I do not think at all')\n",
    "        else:\n",
    "            print('I am thinking')\n",
    "\n",
    "    def trade(self):\n",
    "        print('I am trading ', self.trade_object)\n",
    "\n"
   ]
  },
  {
   "cell_type": "code",
   "execution_count": 17,
   "id": "78f3a7d9-6953-414f-ac20-32650dd250a1",
   "metadata": {},
   "outputs": [],
   "source": [
    "class Hero(Character):\n",
    "    \n",
    "    def __init__(\n",
    "        self,\n",
    "        hair: str = 'clean',\n",
    "        teeth: str = 'perfect',\n",
    "        smell: str = 'exquisite'\n",
    "    ):\n",
    "        self.hair = hair\n",
    "        self.teeth = teeth\n",
    "        self.smell = smell\n",
    "\n",
    "    def save(self):\n",
    "        print('I am saving lives')\n",
    "\n",
    "    def career_choice(self):\n",
    "       if self.empathy < 5:\n",
    "            print('Why am I doing this?')\n",
    "       else:\n",
    "            print('I am so happy to help people')\n",
    "   \n",
    "    def protect(self):\n",
    "        print('I am protecting the world')\n",
    "        "
   ]
  },
  {
   "cell_type": "code",
   "execution_count": 18,
   "id": "15d56987-5a85-4f74-bf1f-68e56a82d48e",
   "metadata": {},
   "outputs": [],
   "source": [
    "class Villain(Character):\n",
    "    \n",
    "    def __init__(\n",
    "        self,\n",
    "        hair: str = 'dirty',\n",
    "        teeth: str = 'sharp',\n",
    "        smell: str = 'stinky'\n",
    "    ):\n",
    "        self.hair = hair\n",
    "        self.teeth = teeth\n",
    "        self.smell = smell\n",
    "    \n",
    "    def career_choice(self):\n",
    "        if self.empathy > 5:\n",
    "            print('I do not know why I have chosen this career')\n",
    "        else:\n",
    "            print('*evil laught* I love it!')\n",
    "    \n",
    "    def destroy(self):\n",
    "            print('I will destroy the world!')\n",
    "   "
   ]
  },
  {
   "cell_type": "code",
   "execution_count": 19,
   "id": "01f08e90-7808-41a5-9e4d-a3d5bbb5c2b4",
   "metadata": {},
   "outputs": [],
   "source": [
    "class Policeman(Hero):\n",
    "    \n",
    "    def __init__(\n",
    "        self,\n",
    "        name: str |  None = None,\n",
    "        eyecolor: str = 'brown',\n",
    "        haircolor: str = 'red',\n",
    "        height_cm: float | int = 171\n",
    "    ):\n",
    "        self.name = name\n",
    "        self.eyecolor = eyecolor\n",
    "        self.haircolor = haircolor\n",
    "        self.height_cm = height_cm\n",
    "        \n",
    "    def catch_thief(self):\n",
    "        print('I am going to catch the thief')"
   ]
  },
  {
   "cell_type": "code",
   "execution_count": 20,
   "id": "cdc3ac1d-96fb-4b6c-a72d-8618ea8ee929",
   "metadata": {},
   "outputs": [],
   "source": [
    "class Thief(Villain):\n",
    "    \n",
    "    def __init__(\n",
    "        self,\n",
    "        name: str | None = None,\n",
    "        eyecolor: str = 'green',\n",
    "        haircolor: str = 'black',\n",
    "        height_cm: float | int = 170.9\n",
    " ):\n",
    "        self.name = name\n",
    "        self.eyecolor = eyecolor\n",
    "        self.haircolor = haircolor\n",
    "        self.height_cm = height_cm\n",
    "\n",
    "    def trick_policeman(self):\n",
    "        print('I am going to trick the policeman')"
   ]
  },
  {
   "cell_type": "code",
   "execution_count": 21,
   "id": "d8f7e4ae-428f-496c-b3d0-e6db9755f5ab",
   "metadata": {},
   "outputs": [],
   "source": [
    "policeman_1 = Policeman(\n",
    "    name = 'Allan',\n",
    "    eyecolor = 'blue',\n",
    "    haircolor = 'blonde',\n",
    "    height_cm = 172\n",
    ")"
   ]
  },
  {
   "cell_type": "code",
   "execution_count": 22,
   "id": "ad682112-5676-4e7f-bfaf-1f2977b4dabc",
   "metadata": {},
   "outputs": [],
   "source": [
    "policeman_2 = Policeman(\n",
    "    name = 'Jude',\n",
    "    eyecolor = 'hazel',\n",
    "    haircolor = 'grey',\n",
    "    height_cm = 175\n",
    ")"
   ]
  },
  {
   "cell_type": "code",
   "execution_count": 23,
   "id": "58111b2c-7ca2-4bf2-801e-6f23efd96b83",
   "metadata": {},
   "outputs": [],
   "source": [
    "thief_1 = Thief(\n",
    "    name = 'Vova',\n",
    "    eyecolor = 'red',\n",
    "    haircolor = 'red',\n",
    "    height_cm = 177\n",
    ")"
   ]
  },
  {
   "cell_type": "code",
   "execution_count": 24,
   "id": "e9d5c5e2-3502-4839-b5b8-1313de0a9b0f",
   "metadata": {},
   "outputs": [],
   "source": [
    "thief_2 = Thief(\n",
    "    name = 'Avov',\n",
    "    eyecolor = 'blue',\n",
    "    haircolor = 'blue',\n",
    "    height_cm = 177\n",
    ")"
   ]
  },
  {
   "cell_type": "code",
   "execution_count": 25,
   "id": "93e19170-e50e-430f-8757-b15ed4948c10",
   "metadata": {},
   "outputs": [
    {
     "data": {
      "text/plain": [
       "'blonde'"
      ]
     },
     "execution_count": 25,
     "metadata": {},
     "output_type": "execute_result"
    }
   ],
   "source": [
    "policeman_1.haircolor"
   ]
  },
  {
   "cell_type": "code",
   "execution_count": 26,
   "id": "dfd288e1-ee71-419f-9c8d-3502b0ad312b",
   "metadata": {},
   "outputs": [
    {
     "data": {
      "text/plain": [
       "'Avov'"
      ]
     },
     "execution_count": 26,
     "metadata": {},
     "output_type": "execute_result"
    }
   ],
   "source": [
    "thief_2.name"
   ]
  },
  {
   "cell_type": "code",
   "execution_count": 27,
   "id": "98a17dbb-20cf-473b-bbf9-e199d0647248",
   "metadata": {},
   "outputs": [
    {
     "name": "stdout",
     "output_type": "stream",
     "text": [
      "I am protecting the world\n"
     ]
    }
   ],
   "source": [
    "policeman_1.protect()"
   ]
  },
  {
   "cell_type": "code",
   "execution_count": 28,
   "id": "acc891d8-a425-4c49-a44b-3a63da5f778e",
   "metadata": {},
   "outputs": [
    {
     "name": "stdout",
     "output_type": "stream",
     "text": [
      "I am going to catch the thief\n"
     ]
    }
   ],
   "source": [
    "policeman_2.catch_thief()"
   ]
  },
  {
   "cell_type": "code",
   "execution_count": 29,
   "id": "43f25f55-b962-46c6-93eb-72d6b6c11207",
   "metadata": {},
   "outputs": [
    {
     "name": "stdout",
     "output_type": "stream",
     "text": [
      "I am going to trick the policeman\n"
     ]
    }
   ],
   "source": [
    "thief_2.trick_policeman()"
   ]
  },
  {
   "cell_type": "code",
   "execution_count": 30,
   "id": "f6969d04-a9be-4047-9183-f2c8551c781a",
   "metadata": {},
   "outputs": [
    {
     "name": "stdout",
     "output_type": "stream",
     "text": [
      "I will destroy the world!\n"
     ]
    }
   ],
   "source": [
    "thief_1.destroy()"
   ]
  }
 ],
 "metadata": {
  "kernelspec": {
   "display_name": "Python 3 (ipykernel)",
   "language": "python",
   "name": "python3"
  },
  "language_info": {
   "codemirror_mode": {
    "name": "ipython",
    "version": 3
   },
   "file_extension": ".py",
   "mimetype": "text/x-python",
   "name": "python",
   "nbconvert_exporter": "python",
   "pygments_lexer": "ipython3",
   "version": "3.11.4"
  }
 },
 "nbformat": 4,
 "nbformat_minor": 5
}
